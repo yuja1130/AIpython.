{
  "nbformat": 4,
  "nbformat_minor": 0,
  "metadata": {
    "colab": {
      "provenance": [],
      "authorship_tag": "ABX9TyOearm3QhS4ieRosKC1iYdg",
      "include_colab_link": true
    },
    "kernelspec": {
      "name": "python3",
      "display_name": "Python 3"
    },
    "language_info": {
      "name": "python"
    }
  },
  "cells": [
    {
      "cell_type": "markdown",
      "metadata": {
        "id": "view-in-github",
        "colab_type": "text"
      },
      "source": [
        "<a href=\"https://colab.research.google.com/github/yuja1130/AIpython./blob/main/20240412.ipynb\" target=\"_parent\"><img src=\"https://colab.research.google.com/assets/colab-badge.svg\" alt=\"Open In Colab\"/></a>"
      ]
    },
    {
      "cell_type": "code",
      "source": [
        "# 다음 리스트에서 \"apple\"의 요소를 출력하세요\n",
        "fruits=[\"banana\", \"apple\", \"orange\", \"cherry\"]\n",
        "print(fruits[1])"
      ],
      "metadata": {
        "colab": {
          "base_uri": "https://localhost:8080/"
        },
        "id": "qNeasB4iCcTr",
        "outputId": "deb65910-58b7-4759-f022-dbb61433a94f"
      },
      "execution_count": 51,
      "outputs": [
        {
          "output_type": "stream",
          "name": "stdout",
          "text": [
            "apple\n"
          ]
        }
      ]
    },
    {
      "cell_type": "code",
      "source": [
        "# 다음 리스트에서 마지막 요소를 출력하세요\n",
        "numbers= [10,20,30,40,50]\n",
        "print(numbers[-1])"
      ],
      "metadata": {
        "colab": {
          "base_uri": "https://localhost:8080/"
        },
        "id": "TFQuGv04CxJ8",
        "outputId": "13cb1356-295f-47fc-9cc5-87bfc4105a14"
      },
      "execution_count": 52,
      "outputs": [
        {
          "output_type": "stream",
          "name": "stdout",
          "text": [
            "50\n"
          ]
        }
      ]
    },
    {
      "cell_type": "code",
      "source": [
        "# 다음 리스트에서 \"banana\" 요소를 \"grape\"로 변경하세요\n",
        "fruits =[ \"apple\", \"banana\", \"cherry\"]\n",
        "fruits[1] = \"grape\"\n",
        "fruits"
      ],
      "metadata": {
        "colab": {
          "base_uri": "https://localhost:8080/"
        },
        "id": "mib2IWfiC6TE",
        "outputId": "26c37037-6f83-4ad2-ea6f-6a5aeba428d4"
      },
      "execution_count": 53,
      "outputs": [
        {
          "output_type": "execute_result",
          "data": {
            "text/plain": [
              "['apple', 'grape', 'cherry']"
            ]
          },
          "metadata": {},
          "execution_count": 53
        }
      ]
    },
    {
      "cell_type": "code",
      "source": [
        "# 다음 리스트에 \"strawberry\" 요소를 추가하세요.\n",
        "fruits = [\"apple\", \"banana\", \"cherry\"]\n",
        "fruits.append(\"strawberry\")\n",
        "fruits"
      ],
      "metadata": {
        "colab": {
          "base_uri": "https://localhost:8080/"
        },
        "id": "dyz3XCdEFhht",
        "outputId": "f2ba75a6-9f9d-4535-f11a-6453e6c03dbb"
      },
      "execution_count": 54,
      "outputs": [
        {
          "output_type": "execute_result",
          "data": {
            "text/plain": [
              "['apple', 'banana', 'cherry', 'strawberry']"
            ]
          },
          "metadata": {},
          "execution_count": 54
        }
      ]
    },
    {
      "cell_type": "code",
      "source": [
        "# 다음 리스트에서 30을 제거하세요.\n",
        "numbers = [10,20,30,40,50]\n",
        "#numbers.remove(30)\n",
        "numbers.pop(2) # 교수님은 이렇게 풀엇음\n",
        "numbers"
      ],
      "metadata": {
        "colab": {
          "base_uri": "https://localhost:8080/"
        },
        "id": "Na7drw7qDMLk",
        "outputId": "5a1c9766-9c77-4be1-e1a8-b1b6f8cc3306"
      },
      "execution_count": 55,
      "outputs": [
        {
          "output_type": "execute_result",
          "data": {
            "text/plain": [
              "[10, 20, 40, 50]"
            ]
          },
          "metadata": {},
          "execution_count": 55
        }
      ]
    },
    {
      "cell_type": "code",
      "source": [
        "# 다음 리스트에서 길이를 제거하세요.\n",
        "numbers = [5,10,15,20,25]\n",
        "len(numbers)"
      ],
      "metadata": {
        "colab": {
          "base_uri": "https://localhost:8080/"
        },
        "id": "hlpqH6H-D5Zx",
        "outputId": "e7cc4eac-0d1a-4b0c-b637-8e6fd01af9ef"
      },
      "execution_count": 56,
      "outputs": [
        {
          "output_type": "execute_result",
          "data": {
            "text/plain": [
              "5"
            ]
          },
          "metadata": {},
          "execution_count": 56
        }
      ]
    },
    {
      "cell_type": "code",
      "source": [
        "# 다음 리스트에서 가장 작은 값/ 가장 큰 값을 찾아 출력하세요.\n",
        "numbers = [10,5,8,3,15]\n",
        "print(\"최댓값 : \", max(numbers))\n",
        "print(\"최솟값 : \", min(numbers))"
      ],
      "metadata": {
        "colab": {
          "base_uri": "https://localhost:8080/"
        },
        "id": "vUJyQIMwEFpm",
        "outputId": "e5182807-3aa2-4112-afee-52f2c23d6112"
      },
      "execution_count": 57,
      "outputs": [
        {
          "output_type": "stream",
          "name": "stdout",
          "text": [
            "최댓값 :  15\n",
            "최솟값 :  3\n"
          ]
        }
      ]
    },
    {
      "cell_type": "code",
      "source": [
        "# 다음 리스트의 모든 요소의 합을 계산하여 출력하세요.\n",
        "numbers = [10,20,30,40,50]\n",
        "print(sum(numbers))"
      ],
      "metadata": {
        "colab": {
          "base_uri": "https://localhost:8080/"
        },
        "id": "l_jjLg8QEOYc",
        "outputId": "7008b901-4b40-469f-f94a-6aa0dfa9ff3f"
      },
      "execution_count": 58,
      "outputs": [
        {
          "output_type": "stream",
          "name": "stdout",
          "text": [
            "150\n"
          ]
        }
      ]
    },
    {
      "cell_type": "code",
      "source": [
        "# 다음 리스트의 모든 요소를 제곱하여 새로운 리스트를 생성하세요.\n",
        "numbers = [1,2,3,4,5]\n",
        "newlst = []\n",
        "for num in numbers:\n",
        "  newlst.append(num ** 2)\n",
        "print(newlst)"
      ],
      "metadata": {
        "colab": {
          "base_uri": "https://localhost:8080/"
        },
        "id": "okNXs_SeEVg8",
        "outputId": "afa60994-fce0-442e-eaf4-99d34a65f971"
      },
      "execution_count": 59,
      "outputs": [
        {
          "output_type": "stream",
          "name": "stdout",
          "text": [
            "[1, 4, 9, 16, 25]\n"
          ]
        }
      ]
    },
    {
      "cell_type": "code",
      "source": [
        "# 다음 리스트에서 \"apple\" 요소의 개수를 출력하세요.\n",
        "fruits = [\"apple\", \"banana\", \"apple\", \"cherry\", \"apple\"]\n",
        "print(fruits.count(\"apple\"))"
      ],
      "metadata": {
        "colab": {
          "base_uri": "https://localhost:8080/"
        },
        "id": "xFGJ2yHMEZoN",
        "outputId": "46138c89-2feb-4b73-c897-307f0fa93c85"
      },
      "execution_count": 60,
      "outputs": [
        {
          "output_type": "stream",
          "name": "stdout",
          "text": [
            "3\n"
          ]
        }
      ]
    },
    {
      "cell_type": "code",
      "source": [
        "def square(x):\n",
        "  return x**2"
      ],
      "metadata": {
        "id": "oVxzKbFsLK2F"
      },
      "execution_count": 61,
      "outputs": []
    },
    {
      "cell_type": "code",
      "source": [
        "ret = square(6)\n",
        "print(ret)"
      ],
      "metadata": {
        "colab": {
          "base_uri": "https://localhost:8080/"
        },
        "id": "zR46TdjbLmGB",
        "outputId": "c6f491b3-e3b5-45be-ac16-f0fa89237222"
      },
      "execution_count": 62,
      "outputs": [
        {
          "output_type": "stream",
          "name": "stdout",
          "text": [
            "36\n"
          ]
        }
      ]
    },
    {
      "cell_type": "code",
      "source": [
        "def square(x):\n",
        "  result = x ** 2\n",
        "  return result"
      ],
      "metadata": {
        "id": "ofY67YkAMVGb"
      },
      "execution_count": 63,
      "outputs": []
    },
    {
      "cell_type": "code",
      "source": [
        "print(square(5))\n",
        "print(square(10))\n",
        "print(square(15))\n",
        "print(square(20))"
      ],
      "metadata": {
        "colab": {
          "base_uri": "https://localhost:8080/"
        },
        "id": "qf32LfXiMbt2",
        "outputId": "c9eebee7-1f3a-4cf6-8223-d3451aaf8a1d"
      },
      "execution_count": 64,
      "outputs": [
        {
          "output_type": "stream",
          "name": "stdout",
          "text": [
            "25\n",
            "100\n",
            "225\n",
            "400\n"
          ]
        }
      ]
    },
    {
      "cell_type": "code",
      "source": [
        "# 위에 문제를 함수로 표현한다면?\n",
        "def square(numbers):\n",
        "  newlist=[]\n",
        "  for num in numbers:\n",
        "    newlist.append(num**2)\n",
        "  return newlst"
      ],
      "metadata": {
        "id": "f1kXMGzsN3SE"
      },
      "execution_count": 67,
      "outputs": []
    },
    {
      "cell_type": "code",
      "source": [
        "new = square([1, 2, 3, 4, 5])\n",
        "print(new)"
      ],
      "metadata": {
        "colab": {
          "base_uri": "https://localhost:8080/"
        },
        "id": "xWwzTECsOJtQ",
        "outputId": "c42d7e62-bce5-4554-8ba6-59d4c77d7903"
      },
      "execution_count": 68,
      "outputs": [
        {
          "output_type": "stream",
          "name": "stdout",
          "text": [
            "[1, 4, 9, 16, 25]\n"
          ]
        }
      ]
    },
    {
      "cell_type": "code",
      "source": [
        "def BMI(h, w):\n",
        "  bmi = w / (h ** 2)\n",
        "  return bmi"
      ],
      "metadata": {
        "id": "wyC-ZTyMPOXk"
      },
      "execution_count": 78,
      "outputs": []
    },
    {
      "cell_type": "code",
      "source": [
        "결과 = BMI(190,90)\n",
        "print(결과)"
      ],
      "metadata": {
        "colab": {
          "base_uri": "https://localhost:8080/"
        },
        "id": "nhNjUwnLOyLt",
        "outputId": "00cc2cd5-f367-4e90-d45a-bab3e0ec860a"
      },
      "execution_count": 79,
      "outputs": [
        {
          "output_type": "stream",
          "name": "stdout",
          "text": [
            "0.002493074792243767\n"
          ]
        }
      ]
    }
  ]
}