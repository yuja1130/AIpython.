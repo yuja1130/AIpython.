{
  "nbformat": 4,
  "nbformat_minor": 0,
  "metadata": {
    "colab": {
      "provenance": [],
      "authorship_tag": "ABX9TyMP0kQz6kX/Asb6YOFhyZoO",
      "include_colab_link": true
    },
    "kernelspec": {
      "name": "python3",
      "display_name": "Python 3"
    },
    "language_info": {
      "name": "python"
    }
  },
  "cells": [
    {
      "cell_type": "markdown",
      "metadata": {
        "id": "view-in-github",
        "colab_type": "text"
      },
      "source": [
        "<a href=\"https://colab.research.google.com/github/yuja1130/AIpython./blob/main/20230329_.ipynb\" target=\"_parent\"><img src=\"https://colab.research.google.com/assets/colab-badge.svg\" alt=\"Open In Colab\"/></a>"
      ]
    },
    {
      "cell_type": "markdown",
      "source": [
        "### **분을 입력받아서 시간과 분을 출력하시오 (.format 메소드 활용)**\n",
        "출력 예 ) 100 -> 1시간 40분"
      ],
      "metadata": {
        "id": "eD6rTwImBVui"
      }
    },
    {
      "cell_type": "code",
      "source": [
        "t = int(input(\"분을 입력하세요 : \"))\n",
        "h = t // 60\n",
        "m = t % 60\n",
        "\n",
        "print(\"{:d}시간 {:d}분\".format(h,m))"
      ],
      "metadata": {
        "colab": {
          "base_uri": "https://localhost:8080/"
        },
        "id": "SufbgdXlB-CN",
        "outputId": "66b80848-e9ff-4e64-8ec6-3ba5e0c258d4"
      },
      "execution_count": null,
      "outputs": [
        {
          "output_type": "stream",
          "name": "stdout",
          "text": [
            "분을 입력하세요 : 100\n",
            "1시간 40분\n"
          ]
        }
      ]
    },
    {
      "cell_type": "markdown",
      "source": [
        "### **섭씨 온도를 입력받아서 화씨온도를 출력하시오 (%연산자 활용)**\n",
        "출력 예 ) 섭씨 31도는 화씨 87.8도 입니다.\n",
        "\n",
        "계산 식 : F = C x 1.8 + 32"
      ],
      "metadata": {
        "id": "dzfJ5e_hBiHz"
      }
    },
    {
      "cell_type": "code",
      "source": [
        "c = float(input(\"섭씨 온도 입력 : \"))\n",
        "a = c * 1.8 +32\n",
        "print(\"섭씨 %d도는 화씨 %.1f도 입니다\"%(c,a))"
      ],
      "metadata": {
        "colab": {
          "base_uri": "https://localhost:8080/"
        },
        "id": "wBRx8IIXDUSd",
        "outputId": "feea6c58-5430-49f7-ed2a-7e39185e788f"
      },
      "execution_count": null,
      "outputs": [
        {
          "output_type": "stream",
          "name": "stdout",
          "text": [
            "섭씨 온도 입력 : 31\n",
            "섭씨 31도는 화씨 87.8도 입니다\n"
          ]
        }
      ]
    },
    {
      "cell_type": "markdown",
      "source": [
        "### **원의 반지름을 입력받아서 원의 둘레와 면적을 출력하시오 (PI = 3.14)**\n",
        "출력 예 ) 반지름이 15인 원의 둘레 94.2이고 면적은 706.5 입니다."
      ],
      "metadata": {
        "id": "uxVRKZN_BySZ"
      }
    },
    {
      "cell_type": "code",
      "source": [
        "r = int(input(\"원의 반지름 입력 : \"))\n",
        "PI = 3.14\n",
        "l = 2 * r * PI\n",
        "s = r * r * PI\n",
        "print(\"반지름이 %s인 원의 둘레는 %4.1f이고, 면적은 %4.1f 입니다.\"%(r,l,s))"
      ],
      "metadata": {
        "colab": {
          "base_uri": "https://localhost:8080/"
        },
        "id": "1gtcfYlPEelX",
        "outputId": "857b5bd7-aa57-45c7-b869-19068551b127"
      },
      "execution_count": null,
      "outputs": [
        {
          "output_type": "stream",
          "name": "stdout",
          "text": [
            "원의 반지름 입력 : 15\n",
            "반지름이 15인 원의 둘레는 94.2이고, 면적은 706.5 입니다.\n"
          ]
        }
      ]
    }
  ]
}